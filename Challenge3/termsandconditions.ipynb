{
 "cells": [
  {
   "cell_type": "markdown",
   "metadata": {},
   "source": [
    "# Challenge 03: Data Modelling: From Retrieval to Upload"
   ]
  },
  {
   "cell_type": "markdown",
   "metadata": {},
   "source": [
    "In this step, we will structure the data retrieved from Azure Document Intelligence (ADI) into the right format to be read by our systems in subsequent steps. \n",
    "\n",
    "The data will be outputted from the ADI as a JSON file, and it is our role to process and organize it. Some of the data will be structured into tables, while other data will be formatted as text. This step ensures that the extracted information is organized in a meaningful way for further analysis and usage.\n",
    "\n",
    "As stated before, we need to make sure that our Function will know how to process:\n",
    "- **Loan Forms:** Extract relevant details such as borrower information, loan amounts, and terms.\n",
    "- **Loan Contract:** Identify and parse key contract elements like clauses, signatures, and dates.\n",
    "- **Pay Stubs:** Retrieve data such as employee details, earnings, deductions, and net pay.\n",
    "\n",
    "Not all customers will have provided all types of content, and during this Challenge we will be only be processing one file. We will combine in the next challenge the capabilities of a trigger, which will, at a time, also process one single document.\n",
    "\n",
    "Due to the nature of this challenge, we will separate this challenge in the 3 different types of documents."
   ]
  },
  {
   "cell_type": "markdown",
   "metadata": {},
   "source": [
    "### Terms and Conditions processing"
   ]
  },
  {
   "cell_type": "code",
   "execution_count": 12,
   "metadata": {},
   "outputs": [],
   "source": [
    "import os\n",
    "import json\n",
    "import pandas as pd\n",
    "from azure.storage.blob import BlobServiceClient\n",
    "from dotenv import load_dotenv\n",
    "import re\n",
    "from azure.cosmos import CosmosClient, exceptions, PartitionKey\n",
    "from dotenv import load_dotenv\n",
    "import os\n",
    "from pydantic import BaseModel, Field\n",
    "from openai import AzureOpenAI\n",
    "# Load environment variables from .env file\n",
    "load_dotenv()\n",
    "\n",
    "def read_json_files_from_blob(folder_path):\n",
    "    # Retrieve the connection string from the environment variables\n",
    "    connection_string = os.getenv('STORAGE_CONNECTION_STRING')\n",
    "\n",
    "    # Ensure the connection string is not None\n",
    "    if connection_string is None:\n",
    "        raise ValueError(\"The connection string environment variable is not set.\")\n",
    "\n",
    "    # Create a BlobServiceClient\n",
    "    blob_service_client = BlobServiceClient.from_connection_string(connection_string)\n",
    "\n",
    "    # Get the container client\n",
    "    container_client = blob_service_client.get_container_client(\"data\")\n",
    "\n",
    "    # List all blobs in the specified folder\n",
    "    blob_list = container_client.list_blobs(name_starts_with=folder_path)\n",
    "\n",
    "    # Filter out JSON files and read their contents\n",
    "    for blob in blob_list:\n",
    "        if blob.name.endswith('.json'):\n",
    "            blob_client = container_client.get_blob_client(blob.name)\n",
    "            blob_data = blob_client.download_blob().readall()\n",
    "            data = json.loads(blob_data)\n",
    "            return data "
   ]
  },
  {
   "cell_type": "code",
   "execution_count": 14,
   "metadata": {},
   "outputs": [],
   "source": [
    "terms_and_conditions = read_json_files_from_blob(\"termsandconditions\") "
   ]
  },
  {
   "cell_type": "code",
   "execution_count": 25,
   "metadata": {},
   "outputs": [],
   "source": [
    "import re\n",
    "\n",
    "def clean_json_data(json_data):\n",
    "    \"\"\"\n",
    "    Extract relevant text content from the JSON, join it into a plain text string,\n",
    "    and extract specific fields like Customer Service, Email, and Address.\n",
    "    \"\"\"\n",
    "    content = []\n",
    "\n",
    "    # Extract text from pages and lines\n",
    "    pages = json_data.get(\"pages\", [])\n",
    "    for page in pages:\n",
    "        for line in page.get(\"lines\", []):\n",
    "            content.append(line.get(\"text\", \"\").strip())\n",
    "\n",
    "    # Join all text content into a single string with spaces between components\n",
    "    plain_text_content = \" \".join(content)\n",
    "\n",
    "    # Extract Customer Service, Email, and Address using regex\n",
    "    contact_info = {\n",
    "        \"Customer Service\": re.search(r\"Customer Service:\\s+([\\+\\d\\(\\)\\-\\s]+)\", plain_text_content),\n",
    "        \"Email\": re.search(r\"Email:\\s+([\\w\\.\\@]+)\", plain_text_content),\n",
    "        \"Address\": re.search(r\"Address:\\s+(.+)\", plain_text_content),\n",
    "    }\n",
    "\n",
    "    # Clean up the extracted values\n",
    "    contact_info = {key: (match.group(1).strip() if match else None) for key, match in contact_info.items()}\n",
    "\n",
    "    return plain_text_content, contact_info\n"
   ]
  },
  {
   "cell_type": "code",
   "execution_count": 28,
   "metadata": {},
   "outputs": [],
   "source": [
    "client = AzureOpenAI(\n",
    "    azure_endpoint=os.getenv(\"AZURE_OPENAI_ENDPOINT\"),\n",
    "    api_key=os.getenv(\"AZURE_OPENAI_KEY\"),\n",
    "    api_version=\"2024-08-01-preview\"\n",
    ")\n",
    "\n",
    "class TermsAndConditions(BaseModel):\n",
    "    bank: str\n",
    "    introduction: str\n",
    "    loan_amount_and_purpose: str\n",
    "    interest_rates: str\n",
    "    loan_tenure: str\n",
    "    monthly_repayments: str\n",
    "    late_payments: str\n",
    "    loan_security: str\n",
    "    loan_processing_fees: str\n",
    "    default_and_foreclosure: str\n",
    "    early_repayment_and_penalties: str\n",
    "    changes_to_terms: str\n",
    "    insurance_requirements: str\n",
    "    loan_cancellation: str\n",
    "    dispute_resolution: str\n",
    "    governing_law: str    \n",
    "    \n"
   ]
  },
  {
   "cell_type": "code",
   "execution_count": 29,
   "metadata": {},
   "outputs": [],
   "source": [
    "terms_and_conditions_structured, contact_info = clean_json_data(terms_and_conditions)\n",
    "completion = client.beta.chat.completions.parse(\n",
    "    model=\"gpt-4o\", # replace with the model deployment name of your gpt-4o 2024-08-06 deployment\n",
    "    messages=[\n",
    "        {\"role\": \"system\", \"content\": \"Extract the information about this loan agreement contract.\"},\n",
    "        {\"role\": \"user\", \"content\": terms_and_conditions_structured},\n",
    "    ],\n",
    "    response_format=TermsAndConditions,\n",
    ")\n",
    "final_json_str = completion.model_dump_json(indent=2)"
   ]
  },
  {
   "cell_type": "code",
   "execution_count": 30,
   "metadata": {},
   "outputs": [
    {
     "name": "stdout",
     "output_type": "stream",
     "text": [
      "{'id': 'Contoso Bank', 'Customer Service': '+1 (800) 123-4567', 'Email': 'home.loans@contosobank.com', 'Address': 'Contoso Bank, 123 Main Street, City, Country', 'bank': 'Contoso Bank', 'introduction': 'These terms and conditions govern the house loans provided by Contoso Bank (referred to as \"the Bank\") to customers (referred to as \"Borrower\"). By applying for and accepting a house loan, the Borrower agrees to the terms and conditions outlined herein.', 'loan_amount_and_purpose': \"The loan is granted exclusively for the purpose of purchasing a residential property, refinancing an existing mortgage, or for approved home improvement projects. The maximum loan amount will be determined by the Bank based on the Borrower's financial profile, creditworthiness, and property value.\", 'interest_rates': \"Fixed Rate: The interest rate remains constant throughout the loan term. Variable Rate: The interest rate may fluctuate based on market conditions and will be tied to a publicly available index. Changes in the interest rate will affect the Borrower's monthly payments. Interest rates are disclosed at the time of loan approval and are subject to change based on prevailing economic conditions until the loan agreement is signed.\", 'loan_tenure': \"The loan term may range from 5 to 30 years, depending on the loan product and the Borrower's preference. Early repayment of the loan is allowed, but prepayment penalties may apply based on the loan terms.\", 'monthly_repayments': 'Monthly repayments consist of both principal and interest, calculated over the loan term. Payments are due on the specified date each month. If the due date falls on a weekend or public holiday, payment must be made on the next business day. The Borrower is responsible for ensuring that sufficient funds are available in their designated account for automatic deductions.', 'late_payments': 'A late fee of 1.5% of the overdue amount will be charged if the monthly repayment is not received by the due date. If payments are consistently late or missed, the Bank reserves the right to initiate legal action and may foreclose on the property.', 'loan_security': \"The property being financed will serve as collateral for the loan. The Borrower must maintain the property in good condition and not transfer or sell the property without the Bank's consent. Adequate homeowner's insurance is required to protect the property against loss or damage. The Bank must be listed as a beneficiary on the insurance policy.\", 'loan_processing_fees': 'An origination fee of up to 1% of the loan amount may be charged at the time of loan approval. Additional fees, such as property valuation fees, legal fees, and administrative fees, may also apply.', 'default_and_foreclosure': 'The Borrower is considered in default if three or more consecutive monthly payments are missed, or if there is a significant breach of any of the loan terms. In the event of default, the Bank reserves the right to demand the immediate repayment of the outstanding loan balance, including interest and fees. Foreclosure proceedings may be initiated, and the property may be sold to recover the outstanding loan amount.', 'early_repayment_and_penalties': 'The Borrower may repay the loan before the scheduled term without penalty for certain loan products. However, for fixed-rate loans, an early repayment fee may apply. The exact terms regarding early repayment will be disclosed in the loan agreement.', 'changes_to_terms': 'The Bank reserves the right to modify these terms and conditions. The Borrower will be notified of any changes in writing or via email. Any changes in interest rates or fees will apply to new loans or renewals. Existing loans will remain subject to the original terms unless otherwise agreed.', 'insurance_requirements': \"The Borrower must obtain and maintain adequate homeowner's insurance for the entire term of the loan. The Bank may request proof of insurance at any time during the loan period. Failure to maintain insurance may result in the Bank purchasing insurance on behalf of the Borrower and charging the Borrower for this cost.\", 'loan_cancellation': 'The Borrower has the right to cancel the loan application within 7 days of signing the agreement without penalty. Cancellation after this period may incur fees as determined by the Bank.', 'dispute_resolution': 'Any disputes arising from this loan agreement must be resolved through negotiation in the first instance. If the dispute cannot be resolved, it will be referred to arbitration in accordance with the laws of the jurisdiction in which the property is located.', 'governing_law': 'These terms and conditions are governed by the laws of the jurisdiction in which the property is located. Any legal proceedings regarding this loan must be brought within the jurisdiction of that location.'}\n"
     ]
    }
   ],
   "source": [
    "def formatted_data_cleaning(json_string, contact_info):\n",
    "    \"\"\"\n",
    "    Replaces the first 'id' in the JSON string with the 'customer_id' and returns the JSON with only the parsed information.\n",
    "\n",
    "    Args:\n",
    "        json_string (str): The original JSON string.\n",
    "\n",
    "    Returns:\n",
    "        dict: The modified JSON object with 'id' replaced by 'customer_id' and only the parsed information included.\n",
    "    \"\"\"\n",
    "    # Load the JSON string into a Python dictionary\n",
    "    data = json.loads(json_string)\n",
    "\n",
    "    # Extract the parsed information\n",
    "    parsed_info = data[\"choices\"][0][\"message\"][\"parsed\"]\n",
    "\n",
    "    # Replace the first id with the customer_id\n",
    "    data[\"id\"] = parsed_info[\"bank\"]\n",
    "\n",
    "    # Create a new dictionary with only the parsed information\n",
    "    result = {\n",
    "        \"id\": data[\"id\"],\n",
    "        **contact_info,\n",
    "        **parsed_info\n",
    "    }\n",
    "\n",
    "    return result\n",
    "\n",
    "# Example usage\n",
    "result_json = formatted_data_cleaning(final_json_str, contact_info)\n",
    "print(result_json)"
   ]
  },
  {
   "cell_type": "markdown",
   "metadata": {},
   "source": [
    "### Code"
   ]
  },
  {
   "cell_type": "code",
   "execution_count": 31,
   "metadata": {},
   "outputs": [],
   "source": [
    "from azure.cosmos import CosmosClient, exceptions, PartitionKey\n",
    "from dotenv import load_dotenv\n",
    "import os\n",
    "\n",
    "# Load environment variables from .env file\n",
    "load_dotenv()\n",
    "\n",
    "# Cosmos DB connection details from environment variables\n",
    "endpoint = os.getenv(\"COSMOS_ENDPOINT\")\n",
    "key = os.getenv(\"COSMOS_KEY\")\n",
    "\n",
    "def upload_text_to_cosmos_db(text_content, container_name):\n",
    "    # Check if the text is empty\n",
    "    if not text_content:\n",
    "        print(\"The text content is empty. No data to upload.\")\n",
    "        return\n",
    "    \n",
    "    # Initialize the Cosmos client\n",
    "    client = CosmosClient(endpoint, key)\n",
    "    \n",
    "    try:\n",
    "        # Create or get the database\n",
    "        database = client.create_database_if_not_exists(id=\"ContosoDB\")\n",
    "        \n",
    "        # Create or get the container\n",
    "        container = database.create_container_if_not_exists(\n",
    "            id=container_name,\n",
    "            partition_key=PartitionKey(path=f\"/id\"),\n",
    "            offer_throughput=400\n",
    "        )\n",
    "    except exceptions.CosmosHttpResponseError as e:\n",
    "        print(f\"An error occurred while creating the database or container: {e.message}\")\n",
    "        return\n",
    "    \n",
    "    # Create a document with the text content and partition key\n",
    "    document = {\n",
    "        'id': text_content.get('id'),  # Generate a unique ID for the document\n",
    "        'content': text_content,  # Store the plain text as 'content'\n",
    "    }\n",
    "    \n",
    "    # Upload the document to the container\n",
    "    try:\n",
    "        container.create_item(body=document)\n",
    "        print(f\"Text content uploaded successfully with ID '{document['id']}' in Cosmos DB.\")\n",
    "    except exceptions.CosmosHttpResponseError as e:\n",
    "        print(f\"An error occurred while uploading the document: {e.message}\")"
   ]
  },
  {
   "cell_type": "markdown",
   "metadata": {},
   "source": [
    "### Upload Pay Stubs"
   ]
  },
  {
   "cell_type": "code",
   "execution_count": 32,
   "metadata": {},
   "outputs": [
    {
     "name": "stdout",
     "output_type": "stream",
     "text": [
      "Text content uploaded successfully with ID 'Contoso Bank' in Cosmos DB.\n"
     ]
    }
   ],
   "source": [
    "upload_text_to_cosmos_db(result_json, \"TermsAndConditions\")"
   ]
  }
 ],
 "metadata": {
  "kernelspec": {
   "display_name": ".venv",
   "language": "python",
   "name": "python3"
  },
  "language_info": {
   "codemirror_mode": {
    "name": "ipython",
    "version": 3
   },
   "file_extension": ".py",
   "mimetype": "text/x-python",
   "name": "python",
   "nbconvert_exporter": "python",
   "pygments_lexer": "ipython3",
   "version": "3.11.0"
  }
 },
 "nbformat": 4,
 "nbformat_minor": 2
}
